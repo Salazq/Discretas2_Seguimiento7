{
  "nbformat": 4,
  "nbformat_minor": 0,
  "metadata": {
    "colab": {
      "provenance": [],
      "include_colab_link": true
    },
    "kernelspec": {
      "name": "python3",
      "display_name": "Python 3"
    },
    "language_info": {
      "name": "python"
    }
  },
  "cells": [
    {
      "cell_type": "markdown",
      "metadata": {
        "id": "view-in-github",
        "colab_type": "text"
      },
      "source": [
        "<a href=\"https://colab.research.google.com/github/Salazq/Discretas2_Seguimiento7/blob/main/Seguimiento7.ipynb\" target=\"_parent\"><img src=\"https://colab.research.google.com/assets/colab-badge.svg\" alt=\"Open In Colab\"/></a>"
      ]
    },
    {
      "cell_type": "markdown",
      "source": [
        "- Juan Camilo Salazar Quintero\n",
        "- Andres Camilo Romero Ruiz"
      ],
      "metadata": {
        "id": "T1OQN9hTTKur"
      }
    },
    {
      "cell_type": "code",
      "execution_count": 1,
      "metadata": {
        "colab": {
          "base_uri": "https://localhost:8080/"
        },
        "id": "Su7_DTMieSQc",
        "outputId": "c32643a0-1f5d-411f-a8c0-a324e6b2be54"
      },
      "outputs": [
        {
          "output_type": "stream",
          "name": "stdout",
          "text": [
            "Collecting TextX\n",
            "  Downloading textx-4.0.1-py3-none-any.whl (66 kB)\n",
            "\u001b[?25l     \u001b[90m━━━━━━━━━━━━━━━━━━━━━━━━━━━━━━━━━━━━━━━━\u001b[0m \u001b[32m0.0/66.8 kB\u001b[0m \u001b[31m?\u001b[0m eta \u001b[36m-:--:--\u001b[0m\r\u001b[2K     \u001b[90m━━━━━━━━━━━━━━━━━━━━━━━━━━━━━━━━━━━━━━━━\u001b[0m \u001b[32m66.8/66.8 kB\u001b[0m \u001b[31m2.9 MB/s\u001b[0m eta \u001b[36m0:00:00\u001b[0m\n",
            "\u001b[?25hCollecting Arpeggio>=2.0.0 (from TextX)\n",
            "  Downloading Arpeggio-2.0.2-py2.py3-none-any.whl (55 kB)\n",
            "\u001b[?25l     \u001b[90m━━━━━━━━━━━━━━━━━━━━━━━━━━━━━━━━━━━━━━━━\u001b[0m \u001b[32m0.0/55.3 kB\u001b[0m \u001b[31m?\u001b[0m eta \u001b[36m-:--:--\u001b[0m\r\u001b[2K     \u001b[90m━━━━━━━━━━━━━━━━━━━━━━━━━━━━━━━━━━━━━━━━\u001b[0m \u001b[32m55.3/55.3 kB\u001b[0m \u001b[31m5.4 MB/s\u001b[0m eta \u001b[36m0:00:00\u001b[0m\n",
            "\u001b[?25hInstalling collected packages: Arpeggio, TextX\n",
            "Successfully installed Arpeggio-2.0.2 TextX-4.0.1\n"
          ]
        }
      ],
      "source": [
        "!pip install TextX\n",
        "from textx import metamodel_from_str\n",
        "from textx import metamodel_from_file"
      ]
    },
    {
      "cell_type": "code",
      "source": [
        "sql_grammar = '''\n",
        "UML_Model:\n",
        "    (package = Package)*\n",
        "    (relations = Relation)*\n",
        ";\n",
        "\n",
        "Package:\n",
        "    vis = Visibility 'package' name = ID\n",
        "    (classes = Classes | enums = Enum)*\n",
        ";\n",
        "\n",
        "Enum:\n",
        "    'enum' name = ID\n",
        "    enumattributes += Enumattributes\n",
        ";\n",
        "\n",
        "Enumattributes:\n",
        "  literal = /[A-Z]+/\n",
        ";\n",
        "\n",
        "\n",
        "Classes:\n",
        "    vis = VisibilityClass 'class' name = ID\n",
        "    (methods = Method | attributes = Attribute)*\n",
        ";\n",
        "\n",
        "VisibilityClass:\n",
        "    'public' | 'protected'\n",
        ";\n",
        "\n",
        "Method:\n",
        "    method = 'm' vis = Visibility type = Typemethod\n",
        "    name = ID ':' (params += Param [','])*\n",
        ";\n",
        "Param:\n",
        "    type = Type name = ID\n",
        ";\n",
        "\n",
        "Type:\n",
        "  'int' | 'string' | 'bool' | 'double' | 'long' | 'date' | /[A-Z][a-z0-9\\[\\]]+\\S/\n",
        ";\n",
        "\n",
        "Typemethod:\n",
        "  'int' | 'string' | 'bool' | 'double' | 'long' | 'void' | 'date' | /[A-Z][a-z0-9\\[\\]]+\\S/\n",
        ";\n",
        "\n",
        "Visibility:\n",
        "    'public' | 'protected' | 'private'\n",
        ";\n",
        "\n",
        "\n",
        "Attribute:\n",
        "    'a' vis = Visibility type = Type name = ID\n",
        ";\n",
        "\n",
        "Relation:\n",
        "    (navFrom = Navigability | visFrom = Visibility) fromm = ID 'to'\n",
        "    (navTo = Navigability | visTo = Visibility) to = ID\n",
        "    relationName = ID cardFrom = Cardinality cardTo = Cardinality\n",
        ";\n",
        "\n",
        "Navigability:\n",
        "  'true' | 'false'\n",
        ";\n",
        "\n",
        "Cardinality:\n",
        "   (INT)('*')?| '*'\n",
        ";\n",
        "\n",
        "\n",
        "'''"
      ],
      "metadata": {
        "id": "V7GpDhiRLPxB"
      },
      "execution_count": 15,
      "outputs": []
    },
    {
      "cell_type": "code",
      "source": [
        "# Example SQL query\n",
        "sql_metamodel = metamodel_from_str(sql_grammar)\n",
        "\n",
        "sql_query = \"\"\"\n",
        "\n",
        "public package ui\n",
        "\n",
        "  public class PetSystem\n",
        "\n",
        "    m public void registerClient:\n",
        "\n",
        "    m public void registerPet:\n",
        "\n",
        "    m public void getPetAge:\n",
        "\n",
        "    m public void getPetTimeTogether:\n",
        "\n",
        "    m public void showPet:\n",
        "\n",
        "    m public void changeColorPet:\n",
        "\n",
        "    m public void menu:\n",
        "\n",
        "public package Model\n",
        "\n",
        "  public class Veterinay\n",
        "    a private string name\n",
        "\n",
        "    m public Veterinay constructor:string name\n",
        "\n",
        "    m public bool addClient:string id, string name\n",
        "\n",
        "    m public bool addPet:string name, date bDate, string color, date dAdoption, double size, string typeFood\n",
        "\n",
        "    m public int getAgePet:string idClient, string namePet\n",
        "\n",
        "    m public int getPetTimeTogether:string idClient, string namePet\n",
        "\n",
        "    m public string getInfoPet:string idClient\n",
        "\n",
        "    m public bool setColorPet:string idClient, string namePet, string newColor\n",
        "\n",
        "    m public Client searchClient:string id\n",
        "\n",
        "    m public string showPets:\n",
        "\n",
        "  public class Client\n",
        "    a private string name\n",
        "\n",
        "    a private string id\n",
        "\n",
        "    m public Client constructor:string name, string id\n",
        "\n",
        "    m public bool addPet:Pet myPet\n",
        "\n",
        "    m public Pet searchPet:string name\n",
        "\n",
        "    m public string getId:\n",
        "\n",
        "    m public Pet[] getPets:\n",
        "\n",
        "  public class Pet\n",
        "    a private string name\n",
        "\n",
        "    a private date birthDate\n",
        "\n",
        "    a private string color\n",
        "\n",
        "    a private date dateOfAdoption\n",
        "\n",
        "    a private double size\n",
        "\n",
        "    a private string typeFood\n",
        "\n",
        "    m public Pet constructor:string name, string bDate, string type, string color, string dateOfAdop, double size\n",
        "\n",
        "    m public int getAge:\n",
        "\n",
        "    m public int getTimeTogether:\n",
        "\n",
        "    m public String getName:\n",
        "\n",
        "    m public String getType:\n",
        "\n",
        "    m public void setColor:string newColor\n",
        "\n",
        "    m public String toString:\n",
        "\n",
        "  enum TypePet\n",
        "    PERRO\n",
        "    GATO\n",
        "    SERPIENTE\n",
        "    PAJARO\n",
        "\n",
        "false PetSystem to private Veterinay model 1 1\n",
        "\n",
        "private Veterinay to private Client has 1 0*\n",
        "\n",
        "private Client to private Pet has 1 0*\n",
        "\n",
        "false Pet to private TypePet has 1 1\n",
        "\n",
        "\"\"\"\n",
        "\n",
        "# Parse the SQL query using the SQL metamodel\n",
        "model = sql_metamodel.model_from_str(sql_query)\n",
        "\n",
        "# Traverse the parsed model and perform further processing"
      ],
      "metadata": {
        "id": "2vnlTvLuL_py"
      },
      "execution_count": 16,
      "outputs": []
    },
    {
      "cell_type": "code",
      "source": [
        "import pydot\n",
        "\n",
        "!textx generate grammar.tx --target dot\n",
        "\n",
        "(graph,) = pydot.graph_from_dot_file('grammar.dot')\n",
        "graph.write_png('grammar.png')"
      ],
      "metadata": {
        "colab": {
          "base_uri": "https://localhost:8080/"
        },
        "id": "rMXVrtUzzItR",
        "outputId": "784415e8-0f9b-41f9-c6b6-cda85b16abe9"
      },
      "execution_count": 19,
      "outputs": [
        {
          "output_type": "stream",
          "name": "stdout",
          "text": [
            "Generating dot target from models:\n",
            "/content/grammar.tx\n",
            "-> /content/grammar.dot\n",
            "    To convert to png run \"dot -Tpng -O grammar.dot\"\n"
          ]
        }
      ]
    },
    {
      "cell_type": "code",
      "source": [
        "for package in model.package:\n",
        "  print(\"\\n\\nPaquete: \" + package.vis + \" \" + package.name)\n",
        "\n",
        "  for classes in package.classes:\n",
        "    print(\" \\n  Clase: \" + classes.vis + \" \" + classes.name)\n",
        "\n",
        "    for attributes in classes.attributes:\n",
        "      print(\"     Atributo: \" + attributes.vis + \" \" + attributes.type + \" \" + attributes.name)\n",
        "\n",
        "    for methods in classes.methods:\n",
        "      print(\"     Método: \" + methods.vis + \" \" + methods.type + \" \" + methods.name)\n",
        "\n",
        "  for enums in package.enums:\n",
        "    print(\" \\n  Enumeración: \" + enums.name)\n",
        "\n",
        "    for enumattributes in enums.enumattributes:\n",
        "      print(\"   \" + enumattributes.literal)\n",
        "\n",
        "for relations in model.relations:\n",
        "\n",
        "  out = \"\\n\\nRelación: \" + str(relations.cardFrom) + \" \"\n",
        "\n",
        "  try:\n",
        "    out += relations.navFrom\n",
        "  except:\n",
        "    out += relations.visFrom\n",
        "\n",
        "  out += \" \" + str(relations.fromm) + \" \" + str(relations.relationName) + \" \" + str(relations.cardTo) + \" \"\n",
        "\n",
        "  try:\n",
        "    out += relations.navTo\n",
        "  except:\n",
        "    out += relations.visTo\n",
        "\n",
        "  out += \" \" + str(relations.to)\n",
        "\n",
        "  print(out)\n"
      ],
      "metadata": {
        "colab": {
          "base_uri": "https://localhost:8080/"
        },
        "id": "aosKtbeEFn7N",
        "outputId": "4b9ffc07-d56c-445b-fcc1-4653b0e8c7d4"
      },
      "execution_count": 18,
      "outputs": [
        {
          "output_type": "stream",
          "name": "stdout",
          "text": [
            "\n",
            "\n",
            "Paquete: public ui\n",
            " \n",
            "  Clase: public PetSystem\n",
            "     Método: public void registerClient\n",
            "     Método: public void registerPet\n",
            "     Método: public void getPetAge\n",
            "     Método: public void getPetTimeTogether\n",
            "     Método: public void showPet\n",
            "     Método: public void changeColorPet\n",
            "     Método: public void menu\n",
            "\n",
            "\n",
            "Paquete: public Model\n",
            " \n",
            "  Clase: public Veterinay\n",
            "     Atributo: private string name\n",
            "     Método: public Veterinay constructor\n",
            "     Método: public bool addClient\n",
            "     Método: public bool addPet\n",
            "     Método: public int getAgePet\n",
            "     Método: public int getPetTimeTogether\n",
            "     Método: public string getInfoPet\n",
            "     Método: public bool setColorPet\n",
            "     Método: public Client searchClient\n",
            "     Método: public string showPets\n",
            " \n",
            "  Clase: public Client\n",
            "     Atributo: private string name\n",
            "     Atributo: private string id\n",
            "     Método: public Client constructor\n",
            "     Método: public bool addPet\n",
            "     Método: public Pet searchPet\n",
            "     Método: public string getId\n",
            "     Método: public Pet[] getPets\n",
            " \n",
            "  Clase: public Pet\n",
            "     Atributo: private string name\n",
            "     Atributo: private date birthDate\n",
            "     Atributo: private string color\n",
            "     Atributo: private date dateOfAdoption\n",
            "     Atributo: private double size\n",
            "     Atributo: private string typeFood\n",
            "     Método: public Pet constructor\n",
            "     Método: public int getAge\n",
            "     Método: public int getTimeTogether\n",
            "     Método: public String getName\n",
            "     Método: public String getType\n",
            "     Método: public void setColor\n",
            "     Método: public String toString\n",
            " \n",
            "  Enumeración: TypePet\n",
            "   PERRO\n",
            "   GATO\n",
            "   SERPIENTE\n",
            "   PAJARO\n",
            "\n",
            "\n",
            "Relación: 1 false PetSystem model 1 private Veterinay\n",
            "\n",
            "\n",
            "Relación: 1 private Veterinay has 0* private Client\n",
            "\n",
            "\n",
            "Relación: 1 private Client has 0* private Pet\n",
            "\n",
            "\n",
            "Relación: 1 false Pet has 1 private TypePet\n"
          ]
        }
      ]
    },
    {
      "cell_type": "code",
      "source": [
        "!textx generate model.tx --grammar grammar.tx --target dot\n",
        "\n",
        "(graph,) = pydot.graph_from_dot_file('model.dot')\n",
        "graph.write_png('model.png')"
      ],
      "metadata": {
        "colab": {
          "base_uri": "https://localhost:8080/"
        },
        "id": "9JUs1XzQC2w9",
        "outputId": "2f848d36-e958-4ee0-bc94-f78cbb373d3c"
      },
      "execution_count": 20,
      "outputs": [
        {
          "output_type": "stream",
          "name": "stdout",
          "text": [
            "Generating dot target from models:\n",
            "/content/model.tx\n",
            "-> /content/model.dot\n",
            "    To convert to png run \"dot -Tpng -O model.dot\"\n"
          ]
        }
      ]
    }
  ]
}